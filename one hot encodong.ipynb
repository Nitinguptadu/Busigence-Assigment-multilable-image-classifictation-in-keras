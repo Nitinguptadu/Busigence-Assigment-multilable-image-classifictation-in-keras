{
 "cells": [
  {
   "cell_type": "code",
   "execution_count": 1,
   "metadata": {},
   "outputs": [],
   "source": [
    "import numpy as np \n",
    "import pandas as pd"
   ]
  },
  {
   "cell_type": "code",
   "execution_count": 2,
   "metadata": {},
   "outputs": [],
   "source": [
    "df = pd.read_csv(\"validation_labels.csv\")"
   ]
  },
  {
   "cell_type": "code",
   "execution_count": 3,
   "metadata": {},
   "outputs": [
    {
     "data": {
      "text/html": [
       "<div>\n",
       "<style scoped>\n",
       "    .dataframe tbody tr th:only-of-type {\n",
       "        vertical-align: middle;\n",
       "    }\n",
       "\n",
       "    .dataframe tbody tr th {\n",
       "        vertical-align: top;\n",
       "    }\n",
       "\n",
       "    .dataframe thead th {\n",
       "        text-align: right;\n",
       "    }\n",
       "</style>\n",
       "<table border=\"1\" class=\"dataframe\">\n",
       "  <thead>\n",
       "    <tr style=\"text-align: right;\">\n",
       "      <th></th>\n",
       "      <th>labels</th>\n",
       "      <th>imageId</th>\n",
       "    </tr>\n",
       "  </thead>\n",
       "  <tbody>\n",
       "    <tr>\n",
       "      <td>0</td>\n",
       "      <td>[u'62', u'17', u'66', u'214', u'105', u'137', ...</td>\n",
       "      <td>1</td>\n",
       "    </tr>\n",
       "    <tr>\n",
       "      <td>1</td>\n",
       "      <td>[u'95', u'17', u'66', u'214', u'164', u'137', ...</td>\n",
       "      <td>2</td>\n",
       "    </tr>\n",
       "    <tr>\n",
       "      <td>2</td>\n",
       "      <td>[u'122', u'19', u'66', u'186', u'180', u'44', ...</td>\n",
       "      <td>3</td>\n",
       "    </tr>\n",
       "    <tr>\n",
       "      <td>3</td>\n",
       "      <td>[u'190', u'222', u'66', u'153', u'164', u'226'...</td>\n",
       "      <td>4</td>\n",
       "    </tr>\n",
       "    <tr>\n",
       "      <td>4</td>\n",
       "      <td>[u'62', u'66', u'153', u'171', u'111', u'137',...</td>\n",
       "      <td>5</td>\n",
       "    </tr>\n",
       "  </tbody>\n",
       "</table>\n",
       "</div>"
      ],
      "text/plain": [
       "                                              labels  imageId\n",
       "0  [u'62', u'17', u'66', u'214', u'105', u'137', ...        1\n",
       "1  [u'95', u'17', u'66', u'214', u'164', u'137', ...        2\n",
       "2  [u'122', u'19', u'66', u'186', u'180', u'44', ...        3\n",
       "3  [u'190', u'222', u'66', u'153', u'164', u'226'...        4\n",
       "4  [u'62', u'66', u'153', u'171', u'111', u'137',...        5"
      ]
     },
     "execution_count": 3,
     "metadata": {},
     "output_type": "execute_result"
    }
   ],
   "source": [
    "df.head()"
   ]
  },
  {
   "cell_type": "code",
   "execution_count": 4,
   "metadata": {},
   "outputs": [],
   "source": [
    "df = df[\"labels\"]"
   ]
  },
  {
   "cell_type": "code",
   "execution_count": 5,
   "metadata": {},
   "outputs": [
    {
     "data": {
      "text/plain": [
       "0    [u'62', u'17', u'66', u'214', u'105', u'137', ...\n",
       "1    [u'95', u'17', u'66', u'214', u'164', u'137', ...\n",
       "2    [u'122', u'19', u'66', u'186', u'180', u'44', ...\n",
       "3    [u'190', u'222', u'66', u'153', u'164', u'226'...\n",
       "4    [u'62', u'66', u'153', u'171', u'111', u'137',...\n",
       "Name: labels, dtype: object"
      ]
     },
     "execution_count": 5,
     "metadata": {},
     "output_type": "execute_result"
    }
   ],
   "source": [
    "df.head()"
   ]
  },
  {
   "cell_type": "code",
   "execution_count": 6,
   "metadata": {},
   "outputs": [
    {
     "name": "stdout",
     "output_type": "stream",
     "text": [
      "[1, 2, 3, 4, 5, 6, 7, 8, 9, 10, 11, 12, 13, 14, 15, 17, 18, 19, 20, 21, 22, 23, 24, 25, 26, 27, 28, 29, 30, 31, 32, 33, 34, 35, 36, 37, 38, 39, 40, 41, 42, 43, 44, 45, 47, 48, 49, 50, 51, 52, 53, 54, 55, 56, 57, 58, 59, 60, 61, 62, 63, 64, 65, 66, 67, 68, 69, 70, 71, 72, 73, 74, 75, 76, 77, 78, 79, 80, 81, 82, 83, 84, 85, 86, 87, 88, 89, 90, 91, 92, 93, 94, 95, 97, 98, 99, 100, 101, 102, 103, 104, 105, 106, 107, 108, 109, 110, 111, 112, 113, 114, 115, 116, 117, 118, 119, 120, 121, 122, 123, 124, 125, 126, 127, 128, 129, 130, 131, 132, 133, 134, 135, 136, 137, 138, 139, 140, 141, 142, 143, 144, 145, 146, 147, 148, 149, 150, 151, 152, 153, 154, 155, 156, 157, 158, 159, 160, 163, 164, 165, 166, 167, 168, 169, 170, 171, 172, 173, 174, 175, 176, 177, 178, 179, 180, 181, 182, 183, 184, 185, 186, 187, 188, 189, 190, 191, 192, 193, 194, 195, 196, 197, 198, 199, 200, 201, 202, 203, 204, 205, 206, 207, 208, 209, 210, 211, 212, 213, 214, 215, 216, 217, 218, 219, 220, 221, 222, 223, 224, 225, 226, 227, 228]\n",
      "223\n"
     ]
    }
   ],
   "source": [
    "k = []\n",
    "m = []\n",
    "for i in df:\n",
    "    n = []\n",
    "    res = str(i)[1:-1]\n",
    "    a = res.split(',')\n",
    "    for j in a:\n",
    "        j = j.replace('u', '')\n",
    "        j =  j.replace(\"'\", \"\")\n",
    "        j = int(j.strip())\n",
    "        n.append(j)\n",
    "        if j not in k:\n",
    "             k.append(j)\n",
    "    m.append(n)\n",
    "k = sorted(k)\n",
    "print(k)\n",
    "print(len(k))"
   ]
  },
  {
   "cell_type": "code",
   "execution_count": 8,
   "metadata": {},
   "outputs": [],
   "source": [
    "m = []\n",
    "for i in k:\n",
    "    y = str(\"u\"+str(i))\n",
    "    m.append(y)"
   ]
  },
  {
   "cell_type": "code",
   "execution_count": 9,
   "metadata": {},
   "outputs": [
    {
     "data": {
      "text/plain": [
       "['u1',\n",
       " 'u2',\n",
       " 'u3',\n",
       " 'u4',\n",
       " 'u5',\n",
       " 'u6',\n",
       " 'u7',\n",
       " 'u8',\n",
       " 'u9',\n",
       " 'u10',\n",
       " 'u11',\n",
       " 'u12',\n",
       " 'u13',\n",
       " 'u14',\n",
       " 'u15',\n",
       " 'u17',\n",
       " 'u18',\n",
       " 'u19',\n",
       " 'u20',\n",
       " 'u21',\n",
       " 'u22',\n",
       " 'u23',\n",
       " 'u24',\n",
       " 'u25',\n",
       " 'u26',\n",
       " 'u27',\n",
       " 'u28',\n",
       " 'u29',\n",
       " 'u30',\n",
       " 'u31',\n",
       " 'u32',\n",
       " 'u33',\n",
       " 'u34',\n",
       " 'u35',\n",
       " 'u36',\n",
       " 'u37',\n",
       " 'u38',\n",
       " 'u39',\n",
       " 'u40',\n",
       " 'u41',\n",
       " 'u42',\n",
       " 'u43',\n",
       " 'u44',\n",
       " 'u45',\n",
       " 'u47',\n",
       " 'u48',\n",
       " 'u49',\n",
       " 'u50',\n",
       " 'u51',\n",
       " 'u52',\n",
       " 'u53',\n",
       " 'u54',\n",
       " 'u55',\n",
       " 'u56',\n",
       " 'u57',\n",
       " 'u58',\n",
       " 'u59',\n",
       " 'u60',\n",
       " 'u61',\n",
       " 'u62',\n",
       " 'u63',\n",
       " 'u64',\n",
       " 'u65',\n",
       " 'u66',\n",
       " 'u67',\n",
       " 'u68',\n",
       " 'u69',\n",
       " 'u70',\n",
       " 'u71',\n",
       " 'u72',\n",
       " 'u73',\n",
       " 'u74',\n",
       " 'u75',\n",
       " 'u76',\n",
       " 'u77',\n",
       " 'u78',\n",
       " 'u79',\n",
       " 'u80',\n",
       " 'u81',\n",
       " 'u82',\n",
       " 'u83',\n",
       " 'u84',\n",
       " 'u85',\n",
       " 'u86',\n",
       " 'u87',\n",
       " 'u88',\n",
       " 'u89',\n",
       " 'u90',\n",
       " 'u91',\n",
       " 'u92',\n",
       " 'u93',\n",
       " 'u94',\n",
       " 'u95',\n",
       " 'u97',\n",
       " 'u98',\n",
       " 'u99',\n",
       " 'u100',\n",
       " 'u101',\n",
       " 'u102',\n",
       " 'u103',\n",
       " 'u104',\n",
       " 'u105',\n",
       " 'u106',\n",
       " 'u107',\n",
       " 'u108',\n",
       " 'u109',\n",
       " 'u110',\n",
       " 'u111',\n",
       " 'u112',\n",
       " 'u113',\n",
       " 'u114',\n",
       " 'u115',\n",
       " 'u116',\n",
       " 'u117',\n",
       " 'u118',\n",
       " 'u119',\n",
       " 'u120',\n",
       " 'u121',\n",
       " 'u122',\n",
       " 'u123',\n",
       " 'u124',\n",
       " 'u125',\n",
       " 'u126',\n",
       " 'u127',\n",
       " 'u128',\n",
       " 'u129',\n",
       " 'u130',\n",
       " 'u131',\n",
       " 'u132',\n",
       " 'u133',\n",
       " 'u134',\n",
       " 'u135',\n",
       " 'u136',\n",
       " 'u137',\n",
       " 'u138',\n",
       " 'u139',\n",
       " 'u140',\n",
       " 'u141',\n",
       " 'u142',\n",
       " 'u143',\n",
       " 'u144',\n",
       " 'u145',\n",
       " 'u146',\n",
       " 'u147',\n",
       " 'u148',\n",
       " 'u149',\n",
       " 'u150',\n",
       " 'u151',\n",
       " 'u152',\n",
       " 'u153',\n",
       " 'u154',\n",
       " 'u155',\n",
       " 'u156',\n",
       " 'u157',\n",
       " 'u158',\n",
       " 'u159',\n",
       " 'u160',\n",
       " 'u163',\n",
       " 'u164',\n",
       " 'u165',\n",
       " 'u166',\n",
       " 'u167',\n",
       " 'u168',\n",
       " 'u169',\n",
       " 'u170',\n",
       " 'u171',\n",
       " 'u172',\n",
       " 'u173',\n",
       " 'u174',\n",
       " 'u175',\n",
       " 'u176',\n",
       " 'u177',\n",
       " 'u178',\n",
       " 'u179',\n",
       " 'u180',\n",
       " 'u181',\n",
       " 'u182',\n",
       " 'u183',\n",
       " 'u184',\n",
       " 'u185',\n",
       " 'u186',\n",
       " 'u187',\n",
       " 'u188',\n",
       " 'u189',\n",
       " 'u190',\n",
       " 'u191',\n",
       " 'u192',\n",
       " 'u193',\n",
       " 'u194',\n",
       " 'u195',\n",
       " 'u196',\n",
       " 'u197',\n",
       " 'u198',\n",
       " 'u199',\n",
       " 'u200',\n",
       " 'u201',\n",
       " 'u202',\n",
       " 'u203',\n",
       " 'u204',\n",
       " 'u205',\n",
       " 'u206',\n",
       " 'u207',\n",
       " 'u208',\n",
       " 'u209',\n",
       " 'u210',\n",
       " 'u211',\n",
       " 'u212',\n",
       " 'u213',\n",
       " 'u214',\n",
       " 'u215',\n",
       " 'u216',\n",
       " 'u217',\n",
       " 'u218',\n",
       " 'u219',\n",
       " 'u220',\n",
       " 'u221',\n",
       " 'u222',\n",
       " 'u223',\n",
       " 'u224',\n",
       " 'u225',\n",
       " 'u226',\n",
       " 'u227',\n",
       " 'u228']"
      ]
     },
     "execution_count": 9,
     "metadata": {},
     "output_type": "execute_result"
    }
   ],
   "source": [
    "m"
   ]
  },
  {
   "cell_type": "code",
   "execution_count": 10,
   "metadata": {},
   "outputs": [],
   "source": [
    "df = pd.DataFrame(m)"
   ]
  },
  {
   "cell_type": "code",
   "execution_count": 11,
   "metadata": {},
   "outputs": [],
   "source": [
    "df = df.transpose()"
   ]
  },
  {
   "cell_type": "code",
   "execution_count": 12,
   "metadata": {},
   "outputs": [],
   "source": [
    "df.to_csv(\"k.csv\",index = False)"
   ]
  },
  {
   "cell_type": "code",
   "execution_count": null,
   "metadata": {},
   "outputs": [],
   "source": [
    "mat = []\n",
    "for i in m:\n",
    "    u = [0]* len(k)\n",
    "    for j in i:\n",
    "        l = k.index(j)\n",
    "        u[l] = 1\n",
    "    mat.append(u)\n",
    "print(mat)"
   ]
  },
  {
   "cell_type": "code",
   "execution_count": null,
   "metadata": {},
   "outputs": [],
   "source": [
    "df = pd.DataFrame(mat)"
   ]
  },
  {
   "cell_type": "code",
   "execution_count": null,
   "metadata": {},
   "outputs": [],
   "source": [
    "df.head()"
   ]
  },
  {
   "cell_type": "code",
   "execution_count": null,
   "metadata": {},
   "outputs": [],
   "source": [
    "df = df.to_csv(\"NIT.csv\",index = False)"
   ]
  },
  {
   "cell_type": "code",
   "execution_count": null,
   "metadata": {},
   "outputs": [],
   "source": []
  }
 ],
 "metadata": {
  "kernelspec": {
   "display_name": "Python 3",
   "language": "python",
   "name": "python3"
  },
  "language_info": {
   "codemirror_mode": {
    "name": "ipython",
    "version": 3
   },
   "file_extension": ".py",
   "mimetype": "text/x-python",
   "name": "python",
   "nbconvert_exporter": "python",
   "pygments_lexer": "ipython3",
   "version": "3.7.4"
  }
 },
 "nbformat": 4,
 "nbformat_minor": 2
}
